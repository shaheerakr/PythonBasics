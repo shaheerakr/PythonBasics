{
 "cells": [
  {
   "cell_type": "code",
   "execution_count": 12,
   "metadata": {},
   "outputs": [],
   "source": [
    "num=100;\n",
    "mango=10;\n",
    "apple=50;\n"
   ]
  },
  {
   "cell_type": "code",
   "execution_count": 15,
   "metadata": {},
   "outputs": [
    {
     "name": "stdout",
     "output_type": "stream",
     "text": [
      "there are 100 students in class\n",
      "there is a student's meating today\n",
      "mango= 10\n",
      "apple= 50\n",
      "we have 60 food in basket\n"
     ]
    }
   ],
   "source": [
    "print(\"there are \"+str(num)+\" students in class\")\n",
    "print(\"there is a student's meating today\")\n",
    "print(\"mango= \"+str(mango))\n",
    "print(\"apple= \"+str(apple))\n",
    "print(\"we have \"+str(mango + apple)+\" food in basket\")"
   ]
  },
  {
   "cell_type": "code",
   "execution_count": null,
   "metadata": {},
   "outputs": [],
   "source": [
    "\"\""
   ]
  }
 ],
 "metadata": {
  "kernelspec": {
   "display_name": "Python 3",
   "language": "python",
   "name": "python3"
  },
  "language_info": {
   "codemirror_mode": {
    "name": "ipython",
    "version": 3
   },
   "file_extension": ".py",
   "mimetype": "text/x-python",
   "name": "python",
   "nbconvert_exporter": "python",
   "pygments_lexer": "ipython3",
   "version": "3.6.4"
  }
 },
 "nbformat": 4,
 "nbformat_minor": 2
}
