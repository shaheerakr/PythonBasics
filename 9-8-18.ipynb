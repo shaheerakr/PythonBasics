{
 "cells": [
  {
   "cell_type": "code",
   "execution_count": 11,
   "metadata": {},
   "outputs": [],
   "source": [
    "wall_clock=\"5:30\"\n",
    "def change_time_wrist():\n",
    "    print(\"enter time for wrist watch 1\")\n",
    "    wrist_watch1=input()\n",
    "    print(\"enter time for wrist watch 2\")\n",
    "    wrist_watch2=input()\n",
    "def change_time_wall_clock():\n",
    "    print(\"enter time for wall clock\")\n",
    "    wall=input()\n",
    "    wrist_watch1=wall\n",
    "    wirst_watch2=wall\n",
    "    return wall\n",
    "def print_time(time):\n",
    "    time=change_time_wall_clock()\n",
    "    print(\"wall clock = \",time)"
   ]
  },
  {
   "cell_type": "code",
   "execution_count": 12,
   "metadata": {},
   "outputs": [
    {
     "name": "stdout",
     "output_type": "stream",
     "text": [
      "enter time for wall clock\n",
      "2:25\n",
      "wall clock =  2:25\n"
     ]
    }
   ],
   "source": [
    "print_time(wall_clock)"
   ]
  }
 ],
 "metadata": {
  "kernelspec": {
   "display_name": "Python 3",
   "language": "python",
   "name": "python3"
  },
  "language_info": {
   "codemirror_mode": {
    "name": "ipython",
    "version": 3
   },
   "file_extension": ".py",
   "mimetype": "text/x-python",
   "name": "python",
   "nbconvert_exporter": "python",
   "pygments_lexer": "ipython3",
   "version": "3.6.4"
  }
 },
 "nbformat": 4,
 "nbformat_minor": 2
}
