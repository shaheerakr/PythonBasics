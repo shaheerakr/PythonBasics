{
 "cells": [
  {
   "cell_type": "code",
   "execution_count": 2,
   "metadata": {},
   "outputs": [],
   "source": [
    "class Patient():\n",
    "    def __init__(self,last_name):\n",
    "        self.last_name=last_name\n",
    "        pass"
   ]
  },
  {
   "cell_type": "code",
   "execution_count": 5,
   "metadata": {},
   "outputs": [],
   "source": [
    "pid123=Patient(\"shaheer\")"
   ]
  },
  {
   "cell_type": "code",
   "execution_count": 7,
   "metadata": {},
   "outputs": [
    {
     "data": {
      "text/plain": [
       "'shaheer'"
      ]
     },
     "execution_count": 7,
     "metadata": {},
     "output_type": "execute_result"
    }
   ],
   "source": [
    "pid123.last_name"
   ]
  },
  {
   "cell_type": "code",
   "execution_count": 32,
   "metadata": {},
   "outputs": [],
   "source": [
    "class Resturant():\n",
    "    def __init__(self,resturant_name,cuisine_type):\n",
    "        self.resturant_name=resturant_name\n",
    "        self.cuisine_type=cuisine_type\n",
    "        pass\n",
    "    def _resturant(self):\n",
    "        print(\"resturant name is \"+self.resturant_name.title())\n",
    "        print(\"cuisine type of this resturant is \"+self.cuisine_type.title())\n",
    "        #pass\n",
    "    def open_resturant(self):\n",
    "        print(\"resturant \"+self.resturant_name.title()+\" is open\")\n",
    "        #pass"
   ]
  },
  {
   "cell_type": "code",
   "execution_count": 33,
   "metadata": {},
   "outputs": [
    {
     "name": "stdout",
     "output_type": "stream",
     "text": [
      "shaheer\n",
      "pakistani\n"
     ]
    }
   ],
   "source": [
    "rst = Resturant(\"shaheer\",\"pakistani\")\n",
    "print(rst.resturant_name)\n",
    "print(rst.cuisine_type)"
   ]
  },
  {
   "cell_type": "code",
   "execution_count": 35,
   "metadata": {},
   "outputs": [
    {
     "name": "stdout",
     "output_type": "stream",
     "text": [
      "resturant name is Shaheer\n",
      "cuisine type of this resturant is Pakistani\n",
      "resturant Shaheer is open\n"
     ]
    }
   ],
   "source": [
    "rst._resturant()\n",
    "rst.open_resturant()"
   ]
  },
  {
   "cell_type": "code",
   "execution_count": null,
   "metadata": {},
   "outputs": [],
   "source": []
  }
 ],
 "metadata": {
  "kernelspec": {
   "display_name": "Python 3",
   "language": "python",
   "name": "python3"
  },
  "language_info": {
   "codemirror_mode": {
    "name": "ipython",
    "version": 3
   },
   "file_extension": ".py",
   "mimetype": "text/x-python",
   "name": "python",
   "nbconvert_exporter": "python",
   "pygments_lexer": "ipython3",
   "version": "3.6.4"
  }
 },
 "nbformat": 4,
 "nbformat_minor": 2
}
