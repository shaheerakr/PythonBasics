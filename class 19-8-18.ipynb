{
 "cells": [
  {
   "cell_type": "code",
   "execution_count": 7,
   "metadata": {},
   "outputs": [
    {
     "name": "stdout",
     "output_type": "stream",
     "text": [
      "('name', 'usama')\n",
      "usama\n",
      "('program', 'AI')\n",
      "AI\n"
     ]
    }
   ],
   "source": [
    "x={'name':'usama','program':'AI'}\n",
    "for k in x.items():\n",
    "    print(k)\n",
    "    print(k[1])"
   ]
  },
  {
   "cell_type": "code",
   "execution_count": 11,
   "metadata": {},
   "outputs": [
    {
     "name": "stdout",
     "output_type": "stream",
     "text": [
      "usama\n",
      "AI\n"
     ]
    }
   ],
   "source": [
    "for key in x.keys():\n",
    "    print (x[key])"
   ]
  },
  {
   "cell_type": "code",
   "execution_count": 18,
   "metadata": {},
   "outputs": [
    {
     "name": "stdout",
     "output_type": "stream",
     "text": [
      "[[1, 2, 3], [1, 2, 5], [2, 3, 4]]\n"
     ]
    }
   ],
   "source": [
    "li=[]\n",
    "some_val={'n1':[2,3,1],'n2':[5,1,2],'n3':[3,2,4]}\n",
    "for k,v in some_val.items():\n",
    "    some_val[k]=sorted(v)\n",
    "for v in some_val.values():\n",
    "    li.append(v)\n",
    "print(li)"
   ]
  },
  {
   "cell_type": "code",
   "execution_count": 22,
   "metadata": {},
   "outputs": [
    {
     "name": "stdout",
     "output_type": "stream",
     "text": [
      "{'n1': [1, 2, 3], 'n2': [1, 2, 5], 'n3': [2, 3, 4]}\n"
     ]
    }
   ],
   "source": [
    "{some_val[i].sort() for i in some_val.keys()}\n",
    "print(some_val)"
   ]
  },
  {
   "cell_type": "code",
   "execution_count": 25,
   "metadata": {},
   "outputs": [
    {
     "data": {
      "text/plain": [
       "{'n1': [1, 2, 3], 'n2': [1, 2, 5], 'n3': [2, 3, 4]}"
      ]
     },
     "execution_count": 25,
     "metadata": {},
     "output_type": "execute_result"
    }
   ],
   "source": [
    "some_val={k:sorted(v)for k,v in some_val.items()}\n",
    "some_val"
   ]
  },
  {
   "cell_type": "code",
   "execution_count": 2,
   "metadata": {},
   "outputs": [
    {
     "name": "stdout",
     "output_type": "stream",
     "text": [
      "flint\n",
      "twine\n",
      "gemstone\n",
      "tubole\n"
     ]
    }
   ],
   "source": [
    "inventory={\n",
    "    'gold':500,\n",
    "    'pouch':['flint','twine','gemstone','hagger','tubole'],\n",
    "    'backpack':['xylophone','danger','bedroll','bread lofe']\n",
    "}\n",
    "for k,v in inventory.items():\n",
    "    if(k=='pouch'):\n",
    "        for i in v:\n",
    "            if(i=='hagger'):\n",
    "                continue\n",
    "            else:\n",
    "                print(i)"
   ]
  },
  {
   "cell_type": "code",
   "execution_count": 3,
   "metadata": {},
   "outputs": [
    {
     "name": "stdout",
     "output_type": "stream",
     "text": [
      "flint\n",
      "twine\n",
      "gemstone\n",
      "tubole\n"
     ]
    },
    {
     "data": {
      "text/plain": [
       "{None}"
      ]
     },
     "execution_count": 3,
     "metadata": {},
     "output_type": "execute_result"
    }
   ],
   "source": [
    "{print(h) for k,v in inventory.items() if k=='pouch' for h in v if h != 'hagger' }"
   ]
  },
  {
   "cell_type": "code",
   "execution_count": 36,
   "metadata": {},
   "outputs": [
    {
     "name": "stdout",
     "output_type": "stream",
     "text": [
      "html\n",
      "css\n",
      "excel\n"
     ]
    },
    {
     "data": {
      "text/plain": [
       "{None}"
      ]
     },
     "execution_count": 36,
     "metadata": {},
     "output_type": "execute_result"
    }
   ],
   "source": [
    "user_pl={\n",
    "    'osama':['c','c#','python'],\n",
    "    'amir saleem':['html','css','excel'],\n",
    "    'shahzad': ['Ruby','swift']\n",
    "}\n",
    "{print(i) for k,v in user_pl.items() if k=='amir saleem' for i in v}"
   ]
  },
  {
   "cell_type": "code",
   "execution_count": 47,
   "metadata": {},
   "outputs": [
    {
     "data": {
      "text/plain": [
       "['circle', 'triangle']"
      ]
     },
     "execution_count": 47,
     "metadata": {},
     "output_type": "execute_result"
    }
   ],
   "source": [
    "someData = {'colours': ['red','blue','green'],'shapes':['circle', 'triangle']}\n",
    "x = someData.get('shapes',0)\n",
    "x"
   ]
  },
  {
   "cell_type": "code",
   "execution_count": 50,
   "metadata": {},
   "outputs": [
    {
     "ename": "TypeError",
     "evalue": "fromkeys expected at least 1 arguments, got 0",
     "output_type": "error",
     "traceback": [
      "\u001b[1;31m---------------------------------------------------------------------------\u001b[0m",
      "\u001b[1;31mTypeError\u001b[0m                                 Traceback (most recent call last)",
      "\u001b[1;32m<ipython-input-50-45a85706420c>\u001b[0m in \u001b[0;36m<module>\u001b[1;34m()\u001b[0m\n\u001b[1;32m----> 1\u001b[1;33m \u001b[0msomeData\u001b[0m\u001b[1;33m.\u001b[0m\u001b[0mfromkeys\u001b[0m\u001b[1;33m(\u001b[0m\u001b[1;33m)\u001b[0m\u001b[1;33m\u001b[0m\u001b[0m\n\u001b[0m",
      "\u001b[1;31mTypeError\u001b[0m: fromkeys expected at least 1 arguments, got 0"
     ]
    }
   ],
   "source": [
    "someData.fromkeys()"
   ]
  },
  {
   "cell_type": "code",
   "execution_count": null,
   "metadata": {},
   "outputs": [],
   "source": [
    "users=[{\n",
    "        'name':'hamza',\n",
    "        'password':'123456'\n",
    "},\n",
    "    {\n",
    "        'name':'shahzad',\n",
    "        'password':'123456'\n",
    "},\n",
    "    \n",
    "]"
   ]
  }
 ],
 "metadata": {
  "kernelspec": {
   "display_name": "Python 3",
   "language": "python",
   "name": "python3"
  },
  "language_info": {
   "codemirror_mode": {
    "name": "ipython",
    "version": 3
   },
   "file_extension": ".py",
   "mimetype": "text/x-python",
   "name": "python",
   "nbconvert_exporter": "python",
   "pygments_lexer": "ipython3",
   "version": "3.6.4"
  }
 },
 "nbformat": 4,
 "nbformat_minor": 2
}
